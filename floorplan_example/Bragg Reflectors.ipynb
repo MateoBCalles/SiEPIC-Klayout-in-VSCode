{
 "cells": [
  {
   "cell_type": "markdown",
   "id": "586077d6",
   "metadata": {},
   "source": [
    "# Creating layouts for fabrication by programming KLayout\n",
    "\n",
    "### Software installation:\n",
    "\n",
    "***KLayout***\n",
    "\n",
    "> pip install klayout\n",
    "\n",
    "***SiEPIC-Tools***\n",
    "\n",
    "1) via pip from PyPI distribution, \n",
    "\n",
    "> pip install siepic\n",
    "\n",
    "2) or, via pip & GitHub Desktop:\n",
    "\n",
    "> python -m pip install -e '/Users/lukasc/Documents/GitHub/SiEPIC-Tools/klayout_dot_config/python'\n",
    "\n",
    "\n",
    "***Your Choosen PDK and Library***\n",
    "\n",
    "I am using SiEPICfab-EBeam-ZEP-PDK\n",
    "\n",
    "Follow the instructions outlined in the README here for installation:\n",
    "\n",
    "https://github.com/SiEPIC/SiEPICfab-EBeam-ZEP-PDK\n",
    "\n",
    "Or you can download directly through klayout (havent tried this method yet)\n",
    "\n",
    "Importing the PDK can be generalized to any PDK in with the import method i have listed below!\n"
   ]
  },
  {
   "cell_type": "code",
   "execution_count": 1,
   "id": "a34b64ec",
   "metadata": {},
   "outputs": [
    {
     "name": "stdout",
     "output_type": "stream",
     "text": [
      "KLayout SiEPIC-Tools version 0.5.24\n",
      "SiEPIC-Tools is up to date (0.5.24 vs 0.5.24).\n",
      "Version check, time: 0.573631763458252 seconds\n"
     ]
    }
   ],
   "source": [
    "import pya\n",
    "from pya import *\n",
    "import SiEPIC\n",
    "from SiEPIC._globals import Python_Env\n",
    "from SiEPIC.scripts import connect_cell, connect_pins_with_waveguide, zoom_out, export_layout\n",
    "from SiEPIC.utils import create_cell2, get_layout_variables\n",
    "from SiEPIC.utils.layout import new_layout, floorplan, coupler_array\n",
    "from SiEPIC.extend import to_itype\n",
    "from SiEPIC.verification import layout_check\n",
    "import numpy as np\n",
    "from SiEPIC.scripts import connect_pins_with_waveguide, connect_cell\n",
    "import os\n",
    "import sys\n"
   ]
  },
  {
   "cell_type": "code",
   "execution_count": 2,
   "id": "4c863db1",
   "metadata": {},
   "outputs": [
    {
     "name": "stdout",
     "output_type": "stream",
     "text": [
      "SiEPICfab-EBeam-ZEP Python module: siepicfab_ebeam_zep, KLayout technology: SiEPICfab_EBeam_ZEP\n",
      "SiEPICfab-EBeam-ZEP Python module: pymacros, v0.1.5\n",
      "Libraries associated with Technology SiEPICfab_EBeam_ZEP: ['SiEPICfab_EBeam_ZEP', 'SiEPICfab_EBeam_ZEP_Beta']\n",
      "Libraries associated with Technology SiEPICfab_EBeam_ZEP: ['SiEPICfab_EBeam_ZEP', 'SiEPICfab_EBeam_ZEP_Beta']\n"
     ]
    }
   ],
   "source": [
    "\n",
    "if Python_Env == 'Script':\n",
    "\n",
    "    # Define the path to your local PDK\n",
    "    path_to_pdk = r\"E:\\OneDrive - UBC\\Documents\\GitHub\"\n",
    "    # path_GitHub = r\"C:\\Users\\gamem\\OneDrive - UBC\\Documents\\GitHub\"\n",
    "\n",
    "    sys.path.insert(0, os.path.join(path_to_pdk, \"SiEPICfab-EBeam-ZEP-PDK\"))\n",
    "\n",
    "    # Now try importing the PDK\n",
    "    import SiEPICfab_EBeam_ZEP\n",
    "\n"
   ]
  },
  {
   "cell_type": "code",
   "execution_count": 3,
   "id": "672b06da",
   "metadata": {},
   "outputs": [],
   "source": [
    "tech_name = 'SiEPICfab_EBeam_ZEP'  # Can change this\n",
    "top_cell_name = 'MateoBC'  # Change this to the name of the top cell from the floorplan\n",
    "\n",
    "chip_name = 'SiEPICfab_ZEP_SNSPDPASSIVE_thin'  # Change this to the name of the .oas file from the folder gds_floorplan\n",
    "chip_folder = 'SiEPICfab_ZEP_SNSPDPASSIVE_202504'\n",
    "\n",
    "\n",
    "chip_file = os.path.join(\"gds_floorplan\", f\"{chip_name}.oas\")  # Main chip file in floorplan\n",
    "layout_file = os.path.join(\"designs\", f\"{top_cell_name}.oas\")  # Name of the soon-to-be chip\n"
   ]
  },
  {
   "cell_type": "code",
   "execution_count": 4,
   "id": "bff8b1dc",
   "metadata": {},
   "outputs": [
    {
     "data": {
      "text/plain": [
       "<klayout.pyacore.Cell at 0x1e37883fa50>"
      ]
     },
     "execution_count": 4,
     "metadata": {},
     "output_type": "execute_result"
    }
   ],
   "source": [
    "\"\"\"\n",
    "This script is used to extract a cell from a floorplan and save it as a GDS file.\n",
    "Worry less about it, just run it and it will do the job.\n",
    "\"\"\"\n",
    "\n",
    "_, _ly = new_layout(tech_name, \"test\", GUI=True, overwrite = False)\n",
    "_ly.read(chip_file)\n",
    "_top_cell = _ly.cell(top_cell_name)\n",
    "_top_cell.write(layout_file) #save the layout to a GDS file"
   ]
  },
  {
   "cell_type": "code",
   "execution_count": 5,
   "id": "09ec856d",
   "metadata": {},
   "outputs": [
    {
     "data": {
      "text/plain": [
       "'\\nCreates a new layout and a new floorplan\\n'"
      ]
     },
     "execution_count": 5,
     "metadata": {},
     "output_type": "execute_result"
    }
   ],
   "source": [
    "\"\"\"\n",
    "Creates a new layout and a new floorplan\n",
    "\"\"\"\n",
    "\n",
    "# top_cell, ly = new_layout(tech_name, \"test\", GUI=True, overwrite = True)\n",
    "# floorplan(top_cell, 605e3, 410e3)\n",
    "# dbu = ly.dbu"
   ]
  },
  {
   "cell_type": "code",
   "execution_count": 6,
   "id": "3e6aad8d",
   "metadata": {},
   "outputs": [
    {
     "data": {
      "image/png": "[encoded data removed]",
      "text/plain": [
       "<IPython.core.display.Image object>"
      ]
     },
     "metadata": {
      "image/png": {
       "height": 370,
       "width": 800
      }
     },
     "output_type": "display_data"
    },
    {
     "name": "stdout",
     "output_type": "stream",
     "text": [
      "Could not connect to klive server. Is klayout open and klive plugin installed?\n"
     ]
    }
   ],
   "source": [
    "\"\"\"\n",
    "This script is used to open a GDS file and display it in KLayout.\n",
    "Creates a new layout and reads the GDS file the above cell made.\n",
    "\"\"\"\n",
    "\n",
    "\n",
    "_, ly = new_layout(tech_name, \"test\", GUI=True, overwrite = False)\n",
    "ly.read(layout_file)\n",
    "# Access the top cell\n",
    "top_cell = ly.cell(top_cell_name)\n",
    "\n",
    "dbu = ly.dbu\n",
    "wg_bend_radius = 20\n",
    "              \n",
    "\n",
    "top_cell.plot() # in the browser\n",
    "top_cell.show() # in KLayout"
   ]
  },
  {
   "cell_type": "code",
   "execution_count": 7,
   "id": "1c316d23",
   "metadata": {},
   "outputs": [
    {
     "data": {
      "text/plain": [
       "(6220.01, 2876.81, 6220010, 2876810)"
      ]
     },
     "execution_count": 7,
     "metadata": {},
     "output_type": "execute_result"
    }
   ],
   "source": [
    "top_cell.bbox().width()*dbu, top_cell.bbox().height()*dbu, top_cell.bbox().right, top_cell.bbox().top # just useful to confirm the size of the cell"
   ]
  },
  {
   "cell_type": "code",
   "execution_count": 8,
   "id": "91c3342f",
   "metadata": {},
   "outputs": [],
   "source": [
    "# === Function to create a single apodized Bragg grating device ===\n",
    "def ebeam_bragg_apodized(x_pos_GC, y_pos_GC, cellname, device_label, xmax, grating_period):\n",
    "    # Create a new device cell\n",
    "    cell = ly.create_cell(cellname)\n",
    "    t = Trans(Trans.R0, 0 / dbu, 0 / dbu)\n",
    "    top_cell.insert(CellInstArray(cell.cell_index(), t))\n",
    "\n",
    "    # Parameters\n",
    "    wg_width = 0.5  # Waveguide width in microns\n",
    "    GC_pitch = 127.  # Grating coupler pitch in microns\n",
    "    num_gc = 4  # Number of grating couplers\n",
    "\n",
    "    # Load PDK cells\n",
    "    cell_gc = create_cell2(ly, \"ebeam_GC_Air_te1550\", tech_name)\n",
    "    cell_ybranch = create_cell2(ly, \"ebeam_ybranch_te1550\", \"SiEPICfab_EBeam_ZEP_Beta\")\n",
    "\n",
    "    # Auto-position starting GC array near top-left of floorplan if x/y == (0, top)\n",
    "    if x_pos_GC == 0 and y_pos_GC == top_cell.bbox().height() * dbu:\n",
    "        x_pos_GC = cell_gc.bbox().width() * dbu\n",
    "        y_pos_GC -= (num_gc - 1) * GC_pitch + cell_gc.bbox().height() * dbu / 2\n",
    "\n",
    "    # Place grating coupler array\n",
    "    inst_GCs = coupler_array(\n",
    "        cell,\n",
    "        cell_name=\"ebeam_GC_Air_te1550\",\n",
    "        cell_library=tech_name,\n",
    "        x_offset=x_pos_GC / dbu,\n",
    "        y_offset=y_pos_GC / dbu,\n",
    "        label=device_label,\n",
    "        label_location=2,\n",
    "        count=num_gc,\n",
    "    )\n",
    "\n",
    "    # Connect second GC to y-branch\n",
    "    inst_ybranch = connect_cell(inst_GCs[1], \"opt1\", cell_ybranch, \"opt1\")\n",
    "\n",
    "    # Define Bragg grating with apodization\n",
    "    cell_bragg = ly.create_cell(\n",
    "        \"ebeam_pcell_bragg_grating\",\n",
    "        \"SiEPICfab_EBeam_ZEP_Beta\",\n",
    "        {\"number_of_periods\": 1000, \"grating_period\": grating_period, \"corrugation_width\": 0.02}\n",
    "    )\n",
    "\n",
    "    # Position Bragg grating relative to Y-branch\n",
    "    gc_length = inst_ybranch.bbox().right * dbu + wg_bend_radius + inst_ybranch.bbox().width() * dbu / 2\n",
    "    # y_pos_bragg = y_pos_GC + 2*GC_pitch - inst_ybranch.bbox().width() * dbu - wg_bend_radius\n",
    "    y_pos_bragg = inst_ybranch.bbox().bottom * dbu - inst_ybranch.bbox().height() * dbu - wg_bend_radius\n",
    "    t = Trans(Trans.R270, gc_length / dbu, y_pos_bragg / dbu)\n",
    "    inst_bragg = cell.insert(CellInstArray(cell_bragg.cell_index(), t))\n",
    "\n",
    "    # Connect Y-branch again to Bragg grating\n",
    "    inst_ybranch2 = connect_cell(inst_bragg, \"opt1\", cell_ybranch, \"opt1\")\n",
    "\n",
    "    # Waveguide parameters\n",
    "    wg_type = \"Strip TE 1550 nm, w=500 nm (core-clad)\"\n",
    "\n",
    "    # Interconnect all components\n",
    "    connect_pins_with_waveguide(inst_GCs[0], \"opt1\", inst_ybranch2, \"opt3\", waveguide_type=wg_type, r=wg_bend_radius)\n",
    "    connect_pins_with_waveguide(inst_ybranch, \"opt2\", inst_ybranch2, \"opt2\", waveguide_type=wg_type, r=wg_bend_radius)\n",
    "    connect_pins_with_waveguide(inst_GCs[2], \"opt1 \", inst_ybranch, \"opt3\", waveguide_type=wg_type, r=wg_bend_radius)\n",
    "\n",
    "    # Use turtle path for the last GC → Bragg grating\n",
    "    connect_pins_with_waveguide(\n",
    "        inst_GCs[3], \"opt1 \", inst_bragg, \"opt2\",\n",
    "        turtle_A=[\n",
    "            wg_bend_radius, -90,  # Right bend\n",
    "            wg_bend_radius, 90    # Left bend\n",
    "        ],\n",
    "        waveguide_type=wg_type, r=wg_bend_radius\n",
    "    )\n",
    "\n",
    "    # === Update placement coordinates for next device ===\n",
    "    # Attempt to place next device to the right\n",
    "    next_x = cell.bbox().right * dbu + 20 + cell_gc.bbox().width() * dbu\n",
    "    next_y = y_pos_GC\n",
    "\n",
    "    # If placement exceeds floorplan width, wrap to next row\n",
    "    if next_x + cell.bbox().width() * dbu > xmax:\n",
    "        next_x = cell_gc.bbox().width() * dbu\n",
    "        next_y = cell.bbox().bottom * dbu - (num_gc - 1) * GC_pitch - cell_gc.bbox().height() * dbu / 2\n",
    "\n",
    "    return next_x, next_y, xmax\n"
   ]
  },
  {
   "cell_type": "code",
   "execution_count": 9,
   "id": "2def581d",
   "metadata": {},
   "outputs": [
    {
     "name": "stdout",
     "output_type": "stream",
     "text": [
      "Done: ebeam_pcell_bragg_grating\n",
      "Done: ebeam_pcell_bragg_grating\n",
      "Done: ebeam_pcell_bragg_grating\n",
      "Done: ebeam_pcell_bragg_grating\n",
      "Done: ebeam_pcell_bragg_grating\n",
      "Done: ebeam_pcell_bragg_grating\n",
      "Done: ebeam_pcell_bragg_grating\n",
      "Done: ebeam_pcell_bragg_grating\n",
      "Done: ebeam_pcell_bragg_grating\n",
      "Done: ebeam_pcell_bragg_grating\n",
      "Done: ebeam_pcell_bragg_grating\n",
      "Done: ebeam_pcell_bragg_grating\n",
      "Done: ebeam_pcell_bragg_grating\n",
      "Done: ebeam_pcell_bragg_grating\n",
      "Done: ebeam_pcell_bragg_grating\n",
      "Done: ebeam_pcell_bragg_grating\n",
      "Done: ebeam_pcell_bragg_grating\n",
      "Done: ebeam_pcell_bragg_grating\n",
      "Done: ebeam_pcell_bragg_grating\n",
      "Done: ebeam_pcell_bragg_grating\n",
      "Done: ebeam_pcell_bragg_grating\n",
      "Done: ebeam_pcell_bragg_grating\n",
      "Done: ebeam_pcell_bragg_grating\n",
      "Done: ebeam_pcell_bragg_grating\n",
      "Done: ebeam_pcell_bragg_grating\n",
      "Done: ebeam_pcell_bragg_grating\n",
      "Done: ebeam_pcell_bragg_grating\n",
      "Done: ebeam_pcell_bragg_grating\n",
      "Done: ebeam_pcell_bragg_grating\n",
      "Done: ebeam_pcell_bragg_grating\n",
      "Done: ebeam_pcell_bragg_grating\n"
     ]
    }
   ],
   "source": [
    "# Start near top-left of floorplan\n",
    "x = 0\n",
    "y = top_cell.bbox().height() * dbu\n",
    "xmax = top_cell.bbox().width() * dbu\n",
    "\n",
    "# Define grating period range (in microns)\n",
    "grating_periods = np.arange(0.310, 0.340, 1e-3)  # 310 nm to 335 nm\n",
    "# Loop to place multiple devices\n",
    "for gp in grating_periods:\n",
    "    for k in range(1,4):\n",
    "        gp_nm = int(gp * 1000)  # Convert to nm for labeling\n",
    "        cellname = f\"ebeam_bragg_apodized{gp_nm}_{k}\"\n",
    "        label = f\"opt_in_TE_1550_device_Mateo_bragg_1000N{gp_nm}nmPeriod500nmW20nmdW0Apo_{k}\"\n",
    "        x, y, xmax = ebeam_bragg_apodized(x, y, cellname, label, xmax, gp)\n"
   ]
  },
  {
   "cell_type": "code",
   "execution_count": 10,
   "id": "9ebcb814",
   "metadata": {},
   "outputs": [
    {
     "name": "stdout",
     "output_type": "stream",
     "text": [
      "Could not connect to klive server. Is klayout open and klive plugin installed?\n"
     ]
    },
    {
     "data": {
      "image/png": "[encoded data removed]",
      "text/plain": [
       "<IPython.core.display.Image object>"
      ]
     },
     "metadata": {
      "image/png": {
       "height": 370,
       "width": 800
      }
     },
     "output_type": "display_data"
    },
    {
     "data": {
      "image/png": "[encoded data removed]",
      "text/plain": [
       "<IPython.core.display.Image object>"
      ]
     },
     "execution_count": 10,
     "metadata": {
      "image/png": {
       "height": 370,
       "width": 800
      }
     },
     "output_type": "execute_result"
    }
   ],
   "source": [
    "# Zoom out\n",
    "# zoom_out(cell)\n",
    "top_cell.show() # in KLayout GUI\n",
    "top_cell.plot() # in the browser"
   ]
  },
  {
   "cell_type": "markdown",
   "id": "313dc051",
   "metadata": {},
   "source": [
    "## Saves the file and then flattens and uploaded a static .oas file directly to gds_in\n",
    "## Could be further adjusted to automatically run merge script as a test\n"
   ]
  },
  {
   "cell_type": "code",
   "execution_count": 11,
   "id": "756b7df7",
   "metadata": {},
   "outputs": [
    {
     "name": "stdout",
     "output_type": "stream",
     "text": [
      " - Warning: You may only have one top cell in your hierarchy. Clean up using SiEPIC > Layout > Delete Extra Top Cells.\n",
      " - Warning: Exporting top cell: MateoBC\n",
      " - cell: MateoBC\n",
      "saving output OASIS: gds_in\\MateoBC_static.oas\n",
      "Success. Layout exported successfully: \n",
      "gds_in\\MateoBC_static.oas\n"
     ]
    }
   ],
   "source": [
    "from  SiEPICfab_ZEP_export import export_for_fabrication\n",
    "\n",
    "\n",
    "gds_in = os.path.join(\"gds_in\\\\\", f\"{top_cell_name}\")\n",
    "\n",
    "\n",
    "export_for_fabrication(ly, top_cell, gds_in, flatten=True)"
   ]
  },
  {
   "cell_type": "markdown",
   "id": "642edcd6",
   "metadata": {},
   "source": [
    "## Total time ~80s\n",
    "## Much faster than pymacro"
   ]
  },
  {
   "cell_type": "code",
   "execution_count": null,
   "id": "104b8791",
   "metadata": {},
   "outputs": [],
   "source": [
    "#work in progress\n",
    "# klayout_path = r'C:\\Users\\Mateo\\Desktop\\KLAYOUT\\klayout_app.exe -e'\n",
    "# merge_script = os.path.join(folder, \"merge_script\", \"merge_layouts.lym\")\n",
    "\n",
    "# !{klayout_path} -b -r \"{merge_script}\"\n"
   ]
  }
 ],
 "metadata": {
  "kernelspec": {
   "display_name": "prefab-env",
   "language": "python",
   "name": "python3"
  },
  "language_info": {
   "codemirror_mode": {
    "name": "ipython",
    "version": 3
   },
   "file_extension": ".py",
   "mimetype": "text/x-python",
   "name": "python",
   "nbconvert_exporter": "python",
   "pygments_lexer": "ipython3",
   "version": "3.11.8"
  }
 },
 "nbformat": 4,
 "nbformat_minor": 5
}
